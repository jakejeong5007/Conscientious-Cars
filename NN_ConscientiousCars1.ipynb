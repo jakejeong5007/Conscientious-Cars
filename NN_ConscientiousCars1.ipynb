{
  "nbformat": 4,
  "nbformat_minor": 0,
  "metadata": {
    "colab": {
      "name": "NN_ConscientiousCars1.ipynb",
      "provenance": [],
      "collapsed_sections": [],
      "include_colab_link": true
    },
    "kernelspec": {
      "name": "python3",
      "display_name": "Python 3"
    },
    "accelerator": "GPU"
  },
  "cells": [
    {
      "cell_type": "markdown",
      "metadata": {
        "id": "view-in-github",
        "colab_type": "text"
      },
      "source": [
        "<a href=\"https://colab.research.google.com/github/jakejeong5007/ConscientiousCars1/blob/main/NN_ConscientiousCars1.ipynb\" target=\"_parent\"><img src=\"https://colab.research.google.com/assets/colab-badge.svg\" alt=\"Open In Colab\"/></a>"
      ]
    },
    {
      "cell_type": "markdown",
      "metadata": {
        "id": "Sq-JhCcLpBwS"
      },
      "source": [
        "We work for CC: ConscientiousCars where we help self-driving vehicles be more conscientious of their surroundings. Our cars have been very good at recognizing and avoiding humans. They haven't, however, been capable of recognizing dogs. Since dogs are man's best friend and will always be where we humans are, we want our cars to know if a dog is on the road in front of them and avoid the dog. \n",
        "\n",
        "\\\\\n",
        "\n",
        "The first step to avoiding these cute puppers is **knowing if a pupper is in front of the car**\n",
        "\n",
        "\\\\\n",
        "\n",
        "So, today, we will **build a detector that can tell when our car sees a dog or not**!\n"
      ]
    },
    {
      "cell_type": "code",
      "metadata": {
        "id": "uhNVum16scIW"
      },
      "source": [
        "#@title Run this to load some packages and data! { display-mode: \"form\" }\n",
        "from sklearn.neural_network import MLPClassifier\n",
        "from sklearn.neighbors import KNeighborsClassifier\n",
        "from sklearn import model_selection\n",
        "from sklearn.metrics import accuracy_score\n",
        "from collections import Counter\n",
        "import keras\n",
        "from keras.models import Sequential\n",
        "from keras.layers import Dense, Conv2D\n",
        "from keras.layers import Activation, MaxPooling2D, Dropout, Flatten, Reshape\n",
        "from keras.wrappers.scikit_learn import KerasClassifier\n",
        "from sklearn.model_selection import StratifiedKFold\n",
        "from sklearn.model_selection import cross_val_score\n",
        "import numpy as np\n",
        "import pandas as pd\n",
        "import seaborn as sns\n",
        "import matplotlib.pyplot as plt\n",
        "\n",
        "\n",
        "def categorical_to_numpy(labels_in):\n",
        "  labels = []\n",
        "  for label in labels_in:\n",
        "    if label == 'dog':\n",
        "      labels.append(np.array([1, 0]))\n",
        "    else:\n",
        "      labels.append(np.array([0, 1]))\n",
        "  return np.array(labels)\n",
        "\n",
        "def one_hot_encoding(input):\n",
        "  output = np.array(input)\n",
        "  output = np.zeros((input.size, input.max()+1))\n",
        "  output[np.arange(input.size),input] = 1\n",
        "  \n",
        "  return output\n",
        "\n",
        "\n",
        "def load_data():\n",
        "  # Run this cell to download our data into a file called 'cifar_data'\n",
        "  import gdown\n",
        "  gdown.download('https://drive.google.com/uc?id=1-BjeqccJdLiBA6PnNinmXSQ6w5BluLem','cifar_data','True'); # dogs v road;\n",
        "\n",
        "  # now load the data from our cloud computer\n",
        "  import pickle\n",
        "  data_dict = pickle.load(open( \"cifar_data\", \"rb\" ));\n",
        "  \n",
        "  data   = data_dict['data']\n",
        "  labels = data_dict['labels']\n",
        "  \n",
        "  return data, labels\n",
        "\n",
        "def plot_one_image(data, labels, img_idx):\n",
        "  from google.colab.patches import cv2_imshow\n",
        "  import cv2\n",
        "  import matplotlib.pyplot as plt\n",
        "  my_img   = data[img_idx, :].squeeze().reshape([32,32,3]).copy()\n",
        "  my_label = labels[img_idx]\n",
        "  print('label: %s'%my_label)\n",
        "  plt.imshow(my_img)\n",
        "  plt.show()\n",
        "  \n",
        "def CNNClassifier(num_epochs=30, layers=5, dropout=0.5):\n",
        "  def create_model():\n",
        "    model = Sequential()\n",
        "    model.add(Reshape((32, 32, 3)))\n",
        "    \n",
        "    for i in range(layers):\n",
        "      model.add(Conv2D(32, (3, 3), padding='same'))\n",
        "      model.add(Activation('relu'))\n",
        "    \n",
        "    model.add(Conv2D(32, (3, 3)))\n",
        "    model.add(Activation('relu'))\n",
        "    model.add(MaxPooling2D(pool_size=(2, 2)))\n",
        "    model.add(Dropout(dropout / 2.0))\n",
        "\n",
        "    model.add(Conv2D(64, (3, 3), padding='same'))\n",
        "    model.add(Activation('relu'))\n",
        "    model.add(Conv2D(64, (3, 3)))\n",
        "    model.add(Activation('relu'))\n",
        "    model.add(MaxPooling2D(pool_size=(2, 2)))\n",
        "    model.add(Dropout(dropout / 2.0))\n",
        "\n",
        "    model.add(Flatten())\n",
        "    model.add(Dense(512))\n",
        "    model.add(Activation('relu'))\n",
        "    model.add(Dropout(dropout))\n",
        "    model.add(Dense(2))\n",
        "    model.add(Activation('softmax'))\n",
        "\n",
        "    # initiate RMSprop optimizer\n",
        "    opt = keras.optimizers.RMSprop(lr=0.0001, decay=1e-6)\n",
        "\n",
        "    # Let's train the model using RMSprop\n",
        "    model.compile(loss='categorical_crossentropy',\n",
        "                  optimizer=opt,\n",
        "                  metrics=['accuracy'])\n",
        "    return model\n",
        "  return KerasClassifier(build_fn=create_model, epochs=num_epochs, batch_size=10, verbose=2)\n",
        "\n",
        "def plot_acc(history, ax = None, xlabel = 'Epoch #'):\n",
        "    history = history.history\n",
        "    history.update({'epoch':list(range(len(history['val_accuracy'])))})\n",
        "    history = pd.DataFrame.from_dict(history)\n",
        "\n",
        "    best_epoch = history.sort_values(by = 'val_accuracy', ascending = False).iloc[0]['epoch']\n",
        "\n",
        "    if not ax:\n",
        "      f, ax = plt.subplots(1,1)\n",
        "    sns.lineplot(x = 'epoch', y = 'val_accuracy', data = history, label = 'Validation', ax = ax)\n",
        "    sns.lineplot(x = 'epoch', y = 'accuracy', data = history, label = 'Training', ax = ax)\n",
        "    ax.axhline(0.5, linestyle = '--',color='red', label = 'Chance')\n",
        "    ax.axvline(x = best_epoch, linestyle = '--', color = 'green', label = 'Best Epoch')  \n",
        "    ax.legend(loc = 1)    \n",
        "    ax.set_ylim([0.4, 1])\n",
        "\n",
        "    ax.set_xlabel(xlabel)\n",
        "    ax.set_ylabel('Accuracy (Fraction)')\n",
        "    \n",
        "    plt.show()"
      ],
      "execution_count": null,
      "outputs": []
    },
    {
      "cell_type": "markdown",
      "metadata": {
        "id": "1QxGsnvhnn8R"
      },
      "source": [
        "## Understanding our data"
      ]
    },
    {
      "cell_type": "markdown",
      "metadata": {
        "id": "btr24O6Hqgo6"
      },
      "source": [
        "Our cars are very attentive and always have their eyes on the road.\n",
        "\n",
        "Every second, they're streaming in data about the street, including video.\n",
        "\n",
        "From this video data, we want our car to tell: is there 'road' or 'dog' in front of it?\n",
        "\n",
        "Lucky for us, we have a dataset of dog and road images already prepared! Let's start by reading that *labeled* data in. \n"
      ]
    },
    {
      "cell_type": "code",
      "metadata": {
        "id": "MmZbrZoKnthN"
      },
      "source": [
        "# load our data\n",
        "data, labels = load_data()"
      ],
      "execution_count": null,
      "outputs": []
    },
    {
      "cell_type": "code",
      "metadata": {
        "id": "csXB_FPMrx1D",
        "colab": {
          "base_uri": "https://localhost:8080/",
          "height": 283
        },
        "outputId": "ec30431e-0fdc-4dd4-8204-a18a72e400b1"
      },
      "source": [
        "# let's look at our first image\n",
        "plot_one_image(data, labels, 0)"
      ],
      "execution_count": null,
      "outputs": [
        {
          "output_type": "stream",
          "text": [
            "label: dog\n"
          ],
          "name": "stdout"
        },
        {
          "output_type": "display_data",
          "data": {
            "image/png": "[encoded data removed]",
            "text/plain": [
              "<Figure size 432x288 with 1 Axes>"
            ]
          },
          "metadata": {
            "tags": [],
            "needs_background": "light"
          }
        }
      ]
    },
    {
      "cell_type": "code",
      "metadata": {
        "id": "CsRj6BAqs25Y",
        "colab": {
          "base_uri": "https://localhost:8080/",
          "height": 283
        },
        "outputId": "f133517e-8fa5-4d81-80f9-89dca5ee9aef"
      },
      "source": [
        "# let's look at an image of a road\n",
        "plot_one_image(data, labels, 700)"
      ],
      "execution_count": null,
      "outputs": [
        {
          "output_type": "stream",
          "text": [
            "label: road\n"
          ],
          "name": "stdout"
        },
        {
          "output_type": "display_data",
          "data": {
            "image/png": "[encoded data removed]",
            "text/plain": [
              "<Figure size 432x288 with 1 Axes>"
            ]
          },
          "metadata": {
            "tags": [],
            "needs_background": "light"
          }
        }
      ]
    },
    {
      "cell_type": "markdown",
      "metadata": {
        "id": "65xbVSbAtBAi"
      },
      "source": [
        "How many dogs and roads do we have? "
      ]
    },
    {
      "cell_type": "code",
      "metadata": {
        "id": "oiSTCdO8tP1o",
        "colab": {
          "base_uri": "https://localhost:8080/"
        },
        "outputId": "bc9de36e-2a33-4128-ee44-d54db9abed93"
      },
      "source": [
        "label_counter = Counter(labels)\n",
        "print(label_counter)\n",
        "NUM_DOGS = label_counter['dog']\n",
        "NUM_ROADS = label_counter['road']\n",
        "print('Number of dogs: ', NUM_DOGS)\n",
        "print('Number of roads: ', NUM_ROADS)"
      ],
      "execution_count": null,
      "outputs": [
        {
          "output_type": "stream",
          "text": [
            "Counter({'dog': 600, 'road': 600})\n",
            "Number of dogs:  600\n",
            "Number of roads:  600\n"
          ],
          "name": "stdout"
        }
      ]
    },
    {
      "cell_type": "markdown",
      "metadata": {
        "id": "dTVV3WWdDfNd"
      },
      "source": [
        "The dataset is organized such that the first 600 images are pictures of dogs and the last 600 images are pictures of roads."
      ]
    },
    {
      "cell_type": "markdown",
      "metadata": {
        "id": "9Sz2c5LlU7Sj"
      },
      "source": [
        "###Exercise 1 ✍️"
      ]
    },
    {
      "cell_type": "markdown",
      "metadata": {
        "id": "gZ65jpsLVlOO"
      },
      "source": [
        "**Look at a few more images of both classes.**\n",
        "\n",
        "As a challenge, try to code a for loop to look at 5 images!"
      ]
    },
    {
      "cell_type": "code",
      "metadata": {
        "id": "DkcqdB2ZVoNc",
        "colab": {
          "base_uri": "https://localhost:8080/",
          "height": 1000
        },
        "outputId": "8f760bb8-1a88-4d48-8b50-39510bf3cc99"
      },
      "source": [
        "### YOUR CODE HERE\n",
        "\n",
        "for x in range(4):\n",
        "  plot_one_image(data, labels, x)\n",
        "\n",
        "### END CODE"
      ],
      "execution_count": null,
      "outputs": [
        {
          "output_type": "stream",
          "text": [
            "label: dog\n"
          ],
          "name": "stdout"
        },
        {
          "output_type": "display_data",
          "data": {
            "image/png": "[encoded data removed]",
            "text/plain": [
              "<Figure size 432x288 with 1 Axes>"
            ]
          },
          "metadata": {
            "tags": [],
            "needs_background": "light"
          }
        },
        {
          "output_type": "stream",
          "text": [
            "label: dog\n"
          ],
          "name": "stdout"
        },
        {
          "output_type": "display_data",
          "data": {
            "image/png": "[encoded data removed]",
            "text/plain": [
              "<Figure size 432x288 with 1 Axes>"
            ]
          },
          "metadata": {
            "tags": [],
            "needs_background": "light"
          }
        },
        {
          "output_type": "stream",
          "text": [
            "label: dog\n"
          ],
          "name": "stdout"
        },
        {
          "output_type": "display_data",
          "data": {
            "image/png": "[encoded data removed]",
            "text/plain": [
              "<Figure size 432x288 with 1 Axes>"
            ]
          },
          "metadata": {
            "tags": [],
            "needs_background": "light"
          }
        },
        {
          "output_type": "stream",
          "text": [
            "label: dog\n"
          ],
          "name": "stdout"
        },
        {
          "output_type": "display_data",
          "data": {
            "image/png": "[encoded data removed]",
            "text/plain": [
              "<Figure size 432x288 with 1 Axes>"
            ]
          },
          "metadata": {
            "tags": [],
            "needs_background": "light"
          }
        }
      ]
    },
    {
      "cell_type": "markdown",
      "metadata": {
        "id": "PHS0E_3wt0RS"
      },
      "source": [
        "Here, our images are stored as the color of each pixel in the image. \n"
      ]
    },
    {
      "cell_type": "code",
      "metadata": {
        "id": "DlgF6jWit9jz",
        "colab": {
          "base_uri": "https://localhost:8080/"
        },
        "outputId": "30533f47-33d7-46aa-bee2-94d046d0d4ba"
      },
      "source": [
        "print('One image looks like: ')\n",
        "print(data[0])\n",
        "print(len(data[0]))"
      ],
      "execution_count": null,
      "outputs": [
        {
          "output_type": "stream",
          "text": [
            "One image looks like: \n",
            "[45 20 19 ... 83 99 31]\n",
            "3072\n"
          ],
          "name": "stdout"
        }
      ]
    },
    {
      "cell_type": "markdown",
      "metadata": {
        "id": "gPu7IDsZU_On"
      },
      "source": [
        "### Question 💡"
      ]
    },
    {
      "cell_type": "markdown",
      "metadata": {
        "id": "0zTjtIBAB2kL"
      },
      "source": [
        "**What do you think these numbers mean?**"
      ]
    },
    {
      "cell_type": "markdown",
      "metadata": {
        "id": "5YNvO6-FukNe"
      },
      "source": [
        "Each of these numbers is a single **input**. "
      ]
    },
    {
      "cell_type": "code",
      "metadata": {
        "id": "YWBX6fWUui4R",
        "colab": {
          "base_uri": "https://localhost:8080/"
        },
        "outputId": "2d81d599-97dc-4f04-b13b-2f1b3c6dde74"
      },
      "source": [
        "print('Each image is 32 x 32 pixels where each pixel has 3 values for \\nred green and blue')\n",
        "print('Each image has 32 x 32 x 3 = %d inputs'%data[0].shape)"
      ],
      "execution_count": null,
      "outputs": [
        {
          "output_type": "stream",
          "text": [
            "Each image is 32 x 32 pixels where each pixel has 3 values for \n",
            "red green and blue\n",
            "Each image has 32 x 32 x 3 = 3072 inputs\n"
          ],
          "name": "stdout"
        }
      ]
    },
    {
      "cell_type": "markdown",
      "metadata": {
        "id": "-haNvnOwt-YE"
      },
      "source": [
        "We use these **inputs** to classify, or predict, what our image is. \n",
        "\n",
        "Our image's category is contained in `labels`. Labels is a list of all of our images' categories. Each label is either `dog` or `road`. "
      ]
    },
    {
      "cell_type": "code",
      "metadata": {
        "id": "JZIiCuBrvS6z",
        "colab": {
          "base_uri": "https://localhost:8080/"
        },
        "outputId": "a8b54967-8b90-44a2-9469-6bccb3101e56"
      },
      "source": [
        "print('Our labels list looks like:')\n",
        "print(set(labels))"
      ],
      "execution_count": null,
      "outputs": [
        {
          "output_type": "stream",
          "text": [
            "Our labels list looks like:\n",
            "{'road', 'dog'}\n"
          ],
          "name": "stdout"
        }
      ]
    },
    {
      "cell_type": "markdown",
      "metadata": {
        "id": "fmG7DtC9vkPV"
      },
      "source": [
        "## A simple machine learner\n"
      ]
    },
    {
      "cell_type": "markdown",
      "metadata": {
        "id": "hPskDCqlzOEE"
      },
      "source": [
        "\n",
        "\n",
        "We want to create a machine learning *model* that can tell us whether a new image is either a `dog` or a `road`. \n",
        "\n",
        "We will give our *model* a *training manual* of data and labels that it will study or train on. \n",
        "\n",
        "We then check how well our model is doing on a *test*, where it is given data and told to predict their labels. \n",
        "\n",
        "Finally, we check  how our model did by giving it a *test*. The accuracy score tells us what percentage of test data it classified correctly. 100% means that all the images were classifered correctly.\n",
        "\n"
      ]
    },
    {
      "cell_type": "markdown",
      "metadata": {
        "id": "S0tDoNWFVVYB"
      },
      "source": [
        "###Exercise 2 ✍️"
      ]
    },
    {
      "cell_type": "markdown",
      "metadata": {
        "id": "Q8_JZ9PVzKzr"
      },
      "source": [
        "\n",
        "Build your own KNN model where you change the number of neighbors. Try to see how high you can make the accuracy go!! We want our pets to be safe after all. "
      ]
    },
    {
      "cell_type": "code",
      "metadata": {
        "id": "ZFOgS2VEyTkH",
        "colab": {
          "base_uri": "https://localhost:8080/"
        },
        "outputId": "09e589cc-92f8-48d1-830c-164553ddc9f3"
      },
      "source": [
        "### YOUR CODE HERE\n",
        "inputs_train, inputs_test, labels_train, labels_test = model_selection.train_test_split(data, labels, test_size=0.2)\n",
        "knn = KNeighborsClassifier(n_neighbors=5)\n",
        "\n",
        "knn.fit(inputs_train, labels_train)\n",
        "\n",
        "pred = knn.predict(inputs_test)\n",
        "\n",
        "accuracy_score(labels_test, pred)\n",
        "\n",
        "### END CODE"
      ],
      "execution_count": null,
      "outputs": [
        {
          "output_type": "execute_result",
          "data": {
            "text/plain": [
              "0.8541666666666666"
            ]
          },
          "metadata": {
            "tags": []
          },
          "execution_count": 21
        }
      ]
    },
    {
      "cell_type": "markdown",
      "metadata": {
        "id": "uU48O9l18_-C"
      },
      "source": [
        "We can use our trained model to predict whether our car is seeing a `dog` or `road`. Let's try this out!"
      ]
    },
    {
      "cell_type": "code",
      "metadata": {
        "id": "Az1_moLl9E0B",
        "colab": {
          "base_uri": "https://localhost:8080/",
          "height": 300
        },
        "outputId": "1e754711-c5c8-470d-cf8c-7ce77ca84fe8"
      },
      "source": [
        "# Specify which image you want to show\n",
        "image_id = 100\n",
        "\n",
        "# Visualize the image\n",
        "plot_one_image(inputs_test, labels_test, image_id)\n",
        "\n",
        "# Use the model to predict what this might be and print it\n",
        "print('prediction:', knn.predict([inputs_test[image_id]])[0])"
      ],
      "execution_count": null,
      "outputs": [
        {
          "output_type": "stream",
          "text": [
            "label: dog\n"
          ],
          "name": "stdout"
        },
        {
          "output_type": "display_data",
          "data": {
            "image/png": "[encoded data removed]",
            "text/plain": [
              "<Figure size 432x288 with 1 Axes>"
            ]
          },
          "metadata": {
            "tags": [],
            "needs_background": "light"
          }
        },
        {
          "output_type": "stream",
          "text": [
            "prediction: road\n"
          ],
          "name": "stdout"
        }
      ]
    },
    {
      "cell_type": "markdown",
      "metadata": {
        "id": "j09evSD_YfJ4"
      },
      "source": [
        "### Exercise 3 ✍️\n",
        "\n",
        "We do alright on the classification, but our classifier could do much better. Let's put on our detective hats to determine what the root cause of the incorrect classifications are.\n",
        "\n",
        "**Print out 4 images of true positives, 4 images of true negatives, 4 images of false positives, and 4 images of false negatives. What are the reasons for failure (both for false positives and false negatives)? **"
      ]
    },
    {
      "cell_type": "code",
      "metadata": {
        "id": "xWy1S_gyGoJT",
        "colab": {
          "base_uri": "https://localhost:8080/",
          "height": 130
        },
        "outputId": "676cbbc5-396f-45c7-f336-9a07fd9ba610"
      },
      "source": [
        "true_positives = 0\n",
        "false_positives = 0\n",
        "true_negatives = 0\n",
        "false_negatives = 0\n",
        "\n",
        "for i in range(len(labels_test)):\n",
        "  prediction = knn.predict(inputs_test)\n",
        "\n",
        "  # True positive.\n",
        "  if prediction == labels_test[i] and prediction == 'dog':\n",
        "    print('True positive:')\n",
        "    plot_one_image(inputs_test, labels_test, i)\n",
        "    true_positives += 1\n",
        "    \n",
        "  # (Is this TN, FP, or FN?)\n",
        "  elif prediction == labels_test[i] and prediction == 'road':\n",
        "    pass\n",
        "    print('True Negative:')\n",
        "    plot_one_image(inputs_test, labels_test, i)\n",
        "  \n",
        "  # (Is this TN, FP, or FN?)\n",
        "  elif prediction != labels_test[i] and prediction == 'dog':\n",
        "    pass\n",
        "    # YOUR CODE HERE\n",
        "  \n",
        "  # (Is this TN, FP, or FN?)\n",
        "  elif prediction != labels_test[i] and prediction == 'road':\n",
        "    pass\n",
        "    # YOUR CODE HERE\n",
        "  \n",
        "  # Stop when we have at least 4 TP, TN, FP, and FN.\n",
        "  if true_positives >= 1 and false_positives >= 1 and \\\n",
        "    true_negatives >= 1 and false_negatives >= 1:\n",
        "    break"
      ],
      "execution_count": null,
      "outputs": [
        {
          "output_type": "error",
          "ename": "SyntaxError",
          "evalue": "ignored",
          "traceback": [
            "\u001b[0;36m  File \u001b[0;32m\"<ipython-input-28-b8468c31f7e1>\"\u001b[0;36m, line \u001b[0;32m7\u001b[0m\n\u001b[0;31m    prediction = # YOUR CODE HERE\u001b[0m\n\u001b[0m                                 ^\u001b[0m\n\u001b[0;31mSyntaxError\u001b[0m\u001b[0;31m:\u001b[0m invalid syntax\n"
          ]
        }
      ]
    },
    {
      "cell_type": "markdown",
      "metadata": {
        "id": "nSx8HEhHKxFd"
      },
      "source": [
        "**What are the causes of false positives and false negatives?**"
      ]
    },
    {
      "cell_type": "markdown",
      "metadata": {
        "id": "4oW_Wb-1CTfB"
      },
      "source": [
        "### Exercise 4 ✍️\n",
        "\n",
        "Determine the optimal value of \"K\" for our data. Use a for-loop to loop through different values of \"K\". In particular, *at the very least* try K = 1, 3, 5, 10, 20, and 30. For each of these values of \"K\", define a new KNN model, train it, and evaluate the accuracy."
      ]
    },
    {
      "cell_type": "code",
      "metadata": {
        "id": "OrZK_qoAZOAd"
      },
      "source": [
        "### YOUR CODE HERE\n",
        "\n",
        "### END CODE"
      ],
      "execution_count": null,
      "outputs": []
    },
    {
      "cell_type": "markdown",
      "metadata": {
        "id": "Xt_hwybdKldM"
      },
      "source": [
        "**What is the optimal value of \"K\"?**"
      ]
    },
    {
      "cell_type": "markdown",
      "metadata": {
        "id": "doLXp1Ot8D2C"
      },
      "source": [
        "## TENSORFLOW PLAYGROUND ACTIVITY (20 MINS) \n",
        "\n",
        "Open [this](https://playground.tensorflow.org/#activation=tanh&batchSize=10&dataset=circle&regDataset=reg-plane&learningRate=0.03&regularizationRate=0&noise=0&networkShape=4,2&seed=0.62283&showTestData=false&discretize=false&percTrainData=50&x=true&y=true&xTimesY=false&xSquared=false&ySquared=false&cosX=false&sinX=false&cosY=false&sinY=false&collectStats=false&problem=classification&initZero=false&hideText=false&regularization_hide=true&regularizationRate_hide=true&learningRate_hide=true&batchSize_hide=true&stepButton_hide=true&activation_hide=true) to understand Neural Networks!"
      ]
    },
    {
      "cell_type": "markdown",
      "metadata": {
        "id": "EIA6RFtZzdXZ"
      },
      "source": [
        "## Using a simple neural network"
      ]
    },
    {
      "cell_type": "markdown",
      "metadata": {
        "id": "Ao613m2lzg5X"
      },
      "source": [
        "Let's now try a neural network for this and see how well it does. "
      ]
    },
    {
      "cell_type": "markdown",
      "metadata": {
        "id": "u9iFe-B4zqQA"
      },
      "source": [
        "To build a simple neural network, we use `MLPClassifier` from scikit-learn. We will play with the **number of neurons** and the **number of hidden layers** to adjust the complexity of our model! Just like we did in Playground. \n",
        "\n",
        "Let's see how well we can do. :) \n",
        "\n",
        "**Example 1:**\n",
        "\n",
        "If we want to create a neural network with 1 hidden layer and 3 neurons, we would say:\n",
        "\n",
        "`nnet = MLPClassifier(hidden_layer_sizes=(3)) `\n",
        "\n",
        "**Example 2:**\n",
        "\n",
        "If we want to create a neural network with 2 hidden layers and 3 neurons in each layer:\n",
        "\n",
        "`nnet = MLPClassifier(hidden_layer_sizes=(3, 3)) `"
      ]
    },
    {
      "cell_type": "code",
      "metadata": {
        "id": "x4XblMWBzm96",
        "colab": {
          "base_uri": "https://localhost:8080/"
        },
        "outputId": "84952acf-0096-45c5-f6a2-98bc98e97669"
      },
      "source": [
        "# Create and train our multi layer perceptron model\n",
        "nnet = MLPClassifier(hidden_layer_sizes=(100, 100, 100, 100, 100, 100, 100), max_iter= 10000000)  ## How many hidden layers? How many neurons does this have?\n",
        "nnet.fit(inputs_train, labels_train)\n",
        "\n",
        "# Predict what the classes are based on the testing data\n",
        "predictions = nnet.predict(inputs_test)\n",
        "\n",
        "# Print the score on the testing data\n",
        "print(\"MLP Testing Set Score:\")\n",
        "print(accuracy_score(labels_test, predictions)*100)"
      ],
      "execution_count": null,
      "outputs": [
        {
          "output_type": "stream",
          "text": [
            "MLP Testing Set Score:\n",
            "53.333333333333336\n"
          ],
          "name": "stdout"
        }
      ]
    },
    {
      "cell_type": "markdown",
      "metadata": {
        "id": "J1QYZTxq0RCV"
      },
      "source": [
        "**How well did your neural network perform?** \n",
        "\n",
        "Multilayer perceptrons are more complex models and it can be difficult to find the right \"settings\" for them. It takes some trial and error!"
      ]
    },
    {
      "cell_type": "markdown",
      "metadata": {
        "id": "nX27P2eY0yqQ"
      },
      "source": [
        "**Try the following out and see how well you can get your network to do:**\n",
        "* Change the number of hidden neurons and hidden layers to see how well you can do.\n",
        "* Increase or decrease the number of iterations"
      ]
    },
    {
      "cell_type": "markdown",
      "metadata": {
        "id": "hXud5MuBXqzo"
      },
      "source": [
        "### Exercise 5 ✍️\n",
        "\n",
        "Similar to what you did for KNNs, use a for loop to automate your investigation. This time, however, you will explore different numbers of hidden layers, the size of the hidden layers, and the number of iterations."
      ]
    },
    {
      "cell_type": "code",
      "metadata": {
        "id": "owrF6cDvX0HX",
        "colab": {
          "base_uri": "https://localhost:8080/"
        },
        "outputId": "b4c09ec5-3352-48ef-9f85-6f7e8b2ad45e"
      },
      "source": [
        "### YOUR CODE HERE\n",
        "\n",
        "hidenLayes = [8, 10, 9]\n",
        "sizes = [100,10,200]\n",
        "iterations = [1000000, 1203434, 3340400]\n",
        "\n",
        "for i in iterations:\n",
        "  for s in sizes:\n",
        "    for h in hidenLayes:\n",
        "      nnet = MLPClassifier(hidden_layer_sizes=(tuple(s for l in range(h))), max_iter = i)\n",
        "      nnet.fit(inputs_train, labels_train)\n",
        "      predictions = nnet.predict(inputs_test)\n",
        "      print(\"MLP Testing Set Score:\")\n",
        "      print(accuracy_score(labels_test, predictions)*100)\n"
      ],
      "execution_count": null,
      "outputs": [
        {
          "output_type": "stream",
          "text": [
            "MLP Testing Set Score:\n",
            "91.66666666666666\n",
            "MLP Testing Set Score:\n",
            "89.16666666666667\n",
            "MLP Testing Set Score:\n",
            "92.08333333333333\n",
            "MLP Testing Set Score:\n",
            "89.58333333333334\n",
            "MLP Testing Set Score:\n",
            "90.0\n",
            "MLP Testing Set Score:\n",
            "87.08333333333333\n",
            "MLP Testing Set Score:\n",
            "85.0\n"
          ],
          "name": "stdout"
        },
        {
          "output_type": "stream",
          "text": [
            "/usr/local/lib/python3.6/dist-packages/sklearn/neural_network/_multilayer_perceptron.py:573: UserWarning: Training interrupted by user.\n",
            "  warnings.warn(\"Training interrupted by user.\")\n"
          ],
          "name": "stderr"
        },
        {
          "output_type": "stream",
          "text": [
            "MLP Testing Set Score:\n",
            "87.08333333333333\n"
          ],
          "name": "stdout"
        },
        {
          "output_type": "stream",
          "text": [
            "/usr/local/lib/python3.6/dist-packages/sklearn/neural_network/_multilayer_perceptron.py:573: UserWarning: Training interrupted by user.\n",
            "  warnings.warn(\"Training interrupted by user.\")\n"
          ],
          "name": "stderr"
        },
        {
          "output_type": "stream",
          "text": [
            "MLP Testing Set Score:\n",
            "75.83333333333333\n",
            "MLP Testing Set Score:\n",
            "89.58333333333334\n"
          ],
          "name": "stdout"
        },
        {
          "output_type": "stream",
          "text": [
            "/usr/local/lib/python3.6/dist-packages/sklearn/neural_network/_multilayer_perceptron.py:573: UserWarning: Training interrupted by user.\n",
            "  warnings.warn(\"Training interrupted by user.\")\n"
          ],
          "name": "stderr"
        },
        {
          "output_type": "stream",
          "text": [
            "MLP Testing Set Score:\n",
            "48.75\n",
            "MLP Testing Set Score:\n",
            "90.41666666666667\n",
            "MLP Testing Set Score:\n",
            "48.75\n",
            "MLP Testing Set Score:\n",
            "90.41666666666667\n",
            "MLP Testing Set Score:\n",
            "48.75\n",
            "MLP Testing Set Score:\n",
            "89.58333333333334\n"
          ],
          "name": "stdout"
        },
        {
          "output_type": "stream",
          "text": [
            "/usr/local/lib/python3.6/dist-packages/sklearn/neural_network/_multilayer_perceptron.py:573: UserWarning: Training interrupted by user.\n",
            "  warnings.warn(\"Training interrupted by user.\")\n"
          ],
          "name": "stderr"
        },
        {
          "output_type": "stream",
          "text": [
            "MLP Testing Set Score:\n",
            "87.91666666666667\n",
            "MLP Testing Set Score:\n",
            "83.75\n",
            "MLP Testing Set Score:\n",
            "90.0\n",
            "MLP Testing Set Score:\n",
            "91.25\n",
            "MLP Testing Set Score:\n",
            "92.91666666666667\n",
            "MLP Testing Set Score:\n",
            "89.58333333333334\n",
            "MLP Testing Set Score:\n",
            "80.41666666666667\n",
            "MLP Testing Set Score:\n",
            "48.75\n",
            "MLP Testing Set Score:\n",
            "92.91666666666667\n",
            "MLP Testing Set Score:\n",
            "93.33333333333333\n",
            "MLP Testing Set Score:\n",
            "92.91666666666667\n"
          ],
          "name": "stdout"
        }
      ]
    },
    {
      "cell_type": "markdown",
      "metadata": {
        "id": "37O_VE_D1Bdy"
      },
      "source": [
        "## Models for vision: Convolutional Neural Networks"
      ]
    },
    {
      "cell_type": "markdown",
      "metadata": {
        "id": "QskPD4RT1GlK"
      },
      "source": [
        "There is a famous type of neural network known as convolutional neural networks (CNNs). These types of neural networks work particularly well on problems to do with computer vision. Let's try one out!\n",
        "\n",
        "To load up a simple CNN on scikit-learn, just run:\n",
        "\n",
        "`cnn = CNNClassifier(num_epochs=N)`\n",
        "\n",
        "The num_epochs represents how many times the neural network passes through the training dataset. "
      ]
    },
    {
      "cell_type": "code",
      "metadata": {
        "id": "kpf8uxMsT7N1"
      },
      "source": [
        "# convert our data to floats for our CNN\n",
        "inputs_train = inputs_train.astype(float)\n",
        "inputs_test = inputs_test.astype(float)\n",
        "\n",
        "labels_train = categorical_to_numpy(labels_train)\n",
        "labels_test = categorical_to_numpy(labels_test)\n"
      ],
      "execution_count": null,
      "outputs": []
    },
    {
      "cell_type": "markdown",
      "metadata": {
        "id": "GqrfI4JiVeFr"
      },
      "source": [
        "###Exercise 6 ✍️"
      ]
    },
    {
      "cell_type": "code",
      "metadata": {
        "id": "dSwghlVU4WTy",
        "colab": {
          "base_uri": "https://localhost:8080/"
        },
        "outputId": "7096be87-33b9-4479-8b74-c26d15dcc8a6"
      },
      "source": [
        "### YOUR CODE HERE\n",
        "# Create and train our cnn\n",
        "\n",
        "cnn = CNNClassifier(num_epochs=30)\n",
        "cnn.fit(inputs_train, labels_train)\n",
        "\n",
        "# Predict what the classes are based on the testing data\n",
        "\n",
        "pred = cnn.predict(inputs_test)\n",
        "\n",
        "# Print the score on the testing data\n",
        "\n",
        "accuracy_score(labels_test, one_hot_encoding(pred))\n",
        "\n",
        "### END CODE"
      ],
      "execution_count": null,
      "outputs": [
        {
          "output_type": "stream",
          "text": [
            "Epoch 1/30\n",
            "96/96 - 1s - loss: 0.6161 - accuracy: 0.7260\n",
            "Epoch 2/30\n",
            "96/96 - 0s - loss: 0.2957 - accuracy: 0.8854\n",
            "Epoch 3/30\n",
            "96/96 - 0s - loss: 0.2159 - accuracy: 0.9198\n",
            "Epoch 4/30\n",
            "96/96 - 0s - loss: 0.1939 - accuracy: 0.9260\n",
            "Epoch 5/30\n",
            "96/96 - 0s - loss: 0.1477 - accuracy: 0.9479\n",
            "Epoch 6/30\n",
            "96/96 - 0s - loss: 0.1326 - accuracy: 0.9531\n",
            "Epoch 7/30\n",
            "96/96 - 0s - loss: 0.1346 - accuracy: 0.9542\n",
            "Epoch 8/30\n",
            "96/96 - 0s - loss: 0.1078 - accuracy: 0.9563\n",
            "Epoch 9/30\n",
            "96/96 - 0s - loss: 0.1099 - accuracy: 0.9552\n",
            "Epoch 10/30\n",
            "96/96 - 0s - loss: 0.1019 - accuracy: 0.9615\n",
            "Epoch 11/30\n",
            "96/96 - 0s - loss: 0.0801 - accuracy: 0.9760\n",
            "Epoch 12/30\n",
            "96/96 - 0s - loss: 0.0688 - accuracy: 0.9760\n",
            "Epoch 13/30\n",
            "96/96 - 0s - loss: 0.0667 - accuracy: 0.9781\n",
            "Epoch 14/30\n",
            "96/96 - 0s - loss: 0.0548 - accuracy: 0.9781\n",
            "Epoch 15/30\n",
            "96/96 - 0s - loss: 0.0450 - accuracy: 0.9823\n",
            "Epoch 16/30\n",
            "96/96 - 0s - loss: 0.0504 - accuracy: 0.9833\n",
            "Epoch 17/30\n",
            "96/96 - 0s - loss: 0.0434 - accuracy: 0.9854\n",
            "Epoch 18/30\n",
            "96/96 - 0s - loss: 0.0452 - accuracy: 0.9833\n",
            "Epoch 19/30\n",
            "96/96 - 0s - loss: 0.0375 - accuracy: 0.9875\n",
            "Epoch 20/30\n",
            "96/96 - 0s - loss: 0.0382 - accuracy: 0.9875\n",
            "Epoch 21/30\n",
            "96/96 - 0s - loss: 0.0419 - accuracy: 0.9844\n",
            "Epoch 22/30\n",
            "96/96 - 0s - loss: 0.0325 - accuracy: 0.9865\n",
            "Epoch 23/30\n",
            "96/96 - 0s - loss: 0.0343 - accuracy: 0.9844\n",
            "Epoch 24/30\n",
            "96/96 - 0s - loss: 0.0419 - accuracy: 0.9896\n",
            "Epoch 25/30\n",
            "96/96 - 0s - loss: 0.0140 - accuracy: 0.9937\n",
            "Epoch 26/30\n",
            "96/96 - 0s - loss: 0.0216 - accuracy: 0.9896\n",
            "Epoch 27/30\n",
            "96/96 - 0s - loss: 0.0366 - accuracy: 0.9927\n",
            "Epoch 28/30\n",
            "96/96 - 0s - loss: 0.0325 - accuracy: 0.9885\n",
            "Epoch 29/30\n",
            "96/96 - 0s - loss: 0.0208 - accuracy: 0.9937\n",
            "Epoch 30/30\n",
            "96/96 - 0s - loss: 0.0202 - accuracy: 0.9927\n",
            "24/24 - 0s\n"
          ],
          "name": "stdout"
        },
        {
          "output_type": "stream",
          "text": [
            "/usr/local/lib/python3.6/dist-packages/tensorflow/python/keras/engine/sequential.py:450: UserWarning: `model.predict_classes()` is deprecated and will be removed after 2021-01-01. Please use instead:* `np.argmax(model.predict(x), axis=-1)`,   if your model does multi-class classification   (e.g. if it uses a `softmax` last-layer activation).* `(model.predict(x) > 0.5).astype(\"int32\")`,   if your model does binary classification   (e.g. if it uses a `sigmoid` last-layer activation).\n",
            "  warnings.warn('`model.predict_classes()` is deprecated and '\n"
          ],
          "name": "stderr"
        },
        {
          "output_type": "execute_result",
          "data": {
            "text/plain": [
              "0.9708333333333333"
            ]
          },
          "metadata": {
            "tags": []
          },
          "execution_count": 62
        }
      ]
    },
    {
      "cell_type": "markdown",
      "metadata": {
        "id": "KGWpgsVXP1ut"
      },
      "source": [
        "**How well did your neural network perform?** \n",
        "\n",
        "CNNs typically perform significantly better than MLPs on vision problems but, like MLPs, aren't always consistent when they are applied. They are also sensitive to a number of parameters. "
      ]
    },
    {
      "cell_type": "markdown",
      "metadata": {
        "id": "c-XRh5Y5P_CL"
      },
      "source": [
        "## Training and Validation Curves\n",
        "\n",
        "An important aspect of training neural networks is to prevent overfitting. In brief, we know that our model is overfitting when our test set accuracy is lower than our training (or validation) set accuracy.\n",
        "\n",
        "```\n",
        "history = model.fit(inputs_train, labels_train, validation_data=(inputs_test, labels_test))\n",
        "plot_acc(history)\n",
        "```\n",
        "\n"
      ]
    },
    {
      "cell_type": "markdown",
      "metadata": {
        "id": "8eaFvE2PQEFe"
      },
      "source": [
        "###Exercise 7 ✍️\n",
        "\n",
        "Plot a train vs. validation curve for our CNN model. \n",
        "\n",
        "**After how many epochs does the model begin to overfit?** Overfitting occurs when the validation accuracy starts to drop below the training accuracy."
      ]
    },
    {
      "cell_type": "code",
      "metadata": {
        "id": "OsVAasDbjARJ"
      },
      "source": [
        "### YOUR CODE HERE\n",
        "\n",
        "### END CODE"
      ],
      "execution_count": null,
      "outputs": []
    },
    {
      "cell_type": "markdown",
      "metadata": {
        "id": "RVzEpI_xWpE5"
      },
      "source": [
        "### Hopefully your CNN worked *very* well! We want to keep the dog-os as safe as they can be.\n",
        "\n",
        "![](https://images.pexels.com/photos/316/black-and-white-animal-dog-pet.jpg?auto=compress&cs=tinysrgb&dpr=2&h=650&w=940)"
      ]
    },
    {
      "cell_type": "markdown",
      "metadata": {
        "id": "7Y1wGoQPm2Ko"
      },
      "source": [
        "# Challenge Exercise: Explainability through Saliency Maps"
      ]
    },
    {
      "cell_type": "markdown",
      "metadata": {
        "id": "UnGTR2Vdb08i"
      },
      "source": [
        "Neural networks have achieved incredible results in many fields. But they have a big problem: it’s very difficult to explain exactly why a neural network makes the decisions it does. This makes it difficult to trust them in high-stakes applications like medicine, self-driving cars, and criminal justice - would you trust an AI that diagnosed you with a disease, but couldn’t explain why?\n",
        "\n",
        "Other classifiers are much more explainable:\n",
        "\n",
        "*   With logistic regression, we can see the coefficient (importance) attached to each input feature.\n",
        "*   With a decision tree, we can trace a particular decision down the tree.\n",
        "*   With KNN, we can examine the nearby neighbors.\n",
        "\n",
        "Our CNN, above, works well. For example, let's try choosing an image from our dataset and classifying it."
      ]
    },
    {
      "cell_type": "code",
      "metadata": {
        "id": "HmU6Peb7m67F"
      },
      "source": [
        "image_index = 70 #pick any image you'd like\n",
        "input_image = inputs_test[image_index] \n",
        "print (input_image.shape) \n",
        "print (input_image) #How many numbers are there? What does each represent?\n",
        "\n",
        "plt.imshow(input_image.reshape(32,32,3).astype(int))\n",
        "plt.show()\n",
        "\n",
        "print ('Classification:')\n",
        "print(cnn.predict(np.array([input_image]))) #Our predict function expects a 2D array.\n",
        "#0 means dog, 1 means road"
      ],
      "execution_count": null,
      "outputs": []
    },
    {
      "cell_type": "markdown",
      "metadata": {
        "id": "c6P7DX_WcfOU"
      },
      "source": [
        "But why did the CNN reach that decision? It’s really hard to give a clear answer! The CNN relies on multiplying input features by the weights it has set. You can print out and look at the hundreds of weights:\n"
      ]
    },
    {
      "cell_type": "code",
      "metadata": {
        "id": "w8M8UZCgcpqO"
      },
      "source": [
        "#Warning: expect a large output!\n",
        "for layer_weights in history.model.weights:\n",
        "  print (layer_weights)"
      ],
      "execution_count": null,
      "outputs": []
    },
    {
      "cell_type": "markdown",
      "metadata": {
        "id": "SR42boMgczoF"
      },
      "source": [
        "Unfortunately, that probably didn’t help you make a useful explanation.\n",
        "\n",
        "Researchers are currently studying ways to make neural networks more explainable. One approach is using **saliency maps** to figure out the saliency (importance) of each individual pixel. Check out a demo [here](https://lrpserver.hhi.fraunhofer.de/image-classification). Intuitively, we're trying to understand the neural network by tracking what it \"pays attention\" to, in the same way that psychologists study babies' cognition by [tracking what babies look at](https://www.ncbi.nlm.nih.gov/pmc/articles/PMC3259733/).\n",
        "\n",
        "In this exercise, we're going to build a simple version of a saliency map for the image you chose above. We'll see what pixels were most important in helping the network make its classification.\n",
        "\n",
        "To do this, we'll investigate the effects of changing each pixel a little bit. If changing a particular pixel changes the result a lot, we conclude that pixel must be important for classifying. If changing that pixel doesn't change the result, we conclude that pixel is unimportant.\n"
      ]
    },
    {
      "cell_type": "markdown",
      "metadata": {
        "id": "0RpZL6ChfLZ6"
      },
      "source": [
        "We're going to use the raw predicted probabilities, rather than the final classification."
      ]
    },
    {
      "cell_type": "code",
      "metadata": {
        "id": "gkdMS7sJfR6j"
      },
      "source": [
        "pred = cnn.predict_proba(np.array([input_image])) #What does each number mean?\n",
        "print (pred)\n",
        "dog_prob = pred[0][0] #This is the probability we'll use (if we know dog prob, we know the classification)\n",
        "\n",
        "print ('Probability of dog:')\n",
        "print (dog_prob)"
      ],
      "execution_count": null,
      "outputs": []
    },
    {
      "cell_type": "markdown",
      "metadata": {
        "id": "Xla3j0R1geJY"
      },
      "source": [
        "Now, we need to calculate the saliency for each pixel (really, each R/G/B value). The core idea is that a pixel's saliency is the average value of \n",
        "\n",
        " $D = |\\frac{\\Delta probability}{\\Delta pixel}|$\n",
        " \n",
        " where $\\Delta$ is the amount of change. If a small change in the pixel value results in a large change in the probability (either up or down), we know this pixel is important. If you've seen derivatives in calculus, this idea should feel familiar.\n",
        "\n",
        "Here's the game plan:\n",
        "\n",
        "*   Consider each pixel value in turn: R, G, B, then the next pixel.\n",
        "*   Make a copy of the image array before you change anything!\n",
        "*   Make the pixel value larger or smaller by various amounts. Each time, find the CNN's prediction with the changed value, and calculate the value of D.\n",
        "*   Repeat the previous step a few times, and calculate the pixel's saliency: the average value of D.\n",
        "*   Store the saliency of each pixel in a list, so that we can visualize it later.\n"
      ]
    },
    {
      "cell_type": "code",
      "metadata": {
        "id": "RnABhKUJmNCF"
      },
      "source": [
        "saliencies = [] #eventually, will be the same size as input_image\n",
        "\n",
        "for index, pixel in enumerate(input_image):\n",
        "  #index counts up from 0, pixel is between 0 and 255\n",
        "  \n",
        "  if index%100 == 0: #will track progress - this might take a while\n",
        "    print (index)\n",
        "  \n",
        "  changed_input = input_image.copy() #make sure not to change the original input_image!\n",
        "  \n",
        "  #YOUR CODE HERE:\n",
        "  #In changed_input, change the value of this pixel by some amount.\n",
        "  #Use the CNN to classify changed_input.\n",
        "  #Calculate the value of D.\n",
        "  #Repeat with various-size changes, and calculate saliency as the average D.\n",
        "  \n",
        "  saliencies.append(saliency)\n",
        "\n",
        "print (saliencies)"
      ],
      "execution_count": null,
      "outputs": []
    },
    {
      "cell_type": "markdown",
      "metadata": {
        "id": "SJEAJ5VinTIZ"
      },
      "source": [
        "You'll notice that your saliencies are probably very small values, since each individual pixel has a small effect on the output. \n",
        "Here are the current min and max:"
      ]
    },
    {
      "cell_type": "code",
      "metadata": {
        "id": "S5vRrciYnZgk"
      },
      "source": [
        "sal_array = np.array(saliencies)\n",
        "print (sal_array.min(), sal_array.max())\n",
        "print (sal_array.shape)"
      ],
      "execution_count": null,
      "outputs": []
    },
    {
      "cell_type": "markdown",
      "metadata": {
        "id": "UwQfwv6rnl--"
      },
      "source": [
        "To plot the saliencies, we need to do some arithmetic to transform them to a range of 0 to 1. Can you explain the function of each line?"
      ]
    },
    {
      "cell_type": "code",
      "metadata": {
        "id": "XL_W9k0W0Sai"
      },
      "source": [
        "sal_array = np.array(saliencies)\n",
        "sal_array = sal_array - sal_array.min()\n",
        "#TODO print min and max\n",
        "\n",
        "sal_array = sal_array/sal_array.max()\n",
        "#TODO print min and max\n",
        "\n",
        "#Can you perform this transformation in a single line of code?\n",
        "\n",
        "print (sal_array.shape)"
      ],
      "execution_count": null,
      "outputs": []
    },
    {
      "cell_type": "markdown",
      "metadata": {
        "id": "OvFKoff4n_gf"
      },
      "source": [
        "Finally, we can plot our saliency map!\n",
        "\n",
        "If you're not getting great results, try experimenting with how much you're changing the pixel values."
      ]
    },
    {
      "cell_type": "code",
      "metadata": {
        "id": "2vANcgvj1Pvc"
      },
      "source": [
        "#Plot our original image\n",
        "plt.imshow(input_image.reshape(32,32,3).astype(int))\n",
        "plt.show()\n",
        "\n",
        "#Plot our saliency map: the brighter, the higher the saliency\n",
        "plt.imshow(sal_array.reshape(32,32,3))\n",
        "plt.show()\n",
        "\n",
        "#Plot our saliency map superimposed on the image\n",
        "plt.imshow(input_image.reshape(32,32,3).astype(int))\n",
        "plt.imshow(sal_array.reshape(32,32,3),alpha=0.6)\n",
        "plt.show()"
      ],
      "execution_count": null,
      "outputs": []
    },
    {
      "cell_type": "markdown",
      "metadata": {
        "id": "fistwbaDp56y"
      },
      "source": [
        "We now have some insight into our neural network! We know which pixels matter in its decisions. \n",
        "\n",
        "You can experiment with the definition of saliency we used above; you might come up with a better way to measure it!"
      ]
    }
  ]
}